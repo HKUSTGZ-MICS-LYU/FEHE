{
 "cells": [
  {
   "cell_type": "code",
   "execution_count": 17,
   "id": "2c00a243",
   "metadata": {},
   "outputs": [],
   "source": [
    "from pynq import Overlay, DefaultHierarchy, allocate, DefaultIP, MMIO\n",
    "import time\n",
    "import numpy as np\n",
    "import pynq.lib.dma\n",
    "from pynq import allocate\n",
    "\n",
    "import asyncio"
   ]
  },
  {
   "cell_type": "code",
   "execution_count": 18,
   "id": "2906da27",
   "metadata": {},
   "outputs": [],
   "source": [
    "class Top_Driver(DefaultIP):\n",
    "    def __init__(self, description):\n",
    "        super().__init__(description=description)\n",
    "\n",
    "    bindto = ['xilinx.com:hls:TOP_MODULE:1.0']\n",
    "\n",
    "    def compute(self, input1, input2, OP):\n",
    "        self.write(0x10, input1)\n",
    "        self.write(0x18, input2)\n",
    "        self.write(0x30, OP)\n",
    "        return self.read(0x20)\n",
    "overlay = Overlay('/home/xilinx/pynq/overlays/Crypto/Crypto.bit')"
   ]
  },
  {
   "cell_type": "code",
   "execution_count": 19,
   "id": "92b36ce5",
   "metadata": {},
   "outputs": [],
   "source": [
    "top = overlay.TOP_MODULE_0"
   ]
  },
  {
   "cell_type": "code",
   "execution_count": 20,
   "id": "46ae2cf6",
   "metadata": {},
   "outputs": [],
   "source": [
    "bram_num = 8\n",
    "for i in range(bram_num):\n",
    "    exec(f'bram{i} = overlay.axi_bram_ctrl_{i}')"
   ]
  },
  {
   "cell_type": "code",
   "execution_count": 21,
   "id": "a6dd3b12",
   "metadata": {},
   "outputs": [
    {
     "name": "stdout",
     "output_type": "stream",
     "text": [
      "Time:  0.005315065383911133\n"
     ]
    }
   ],
   "source": [
    "# simulate CKKS encryption, polynomial degree 4096\n",
    "MOD = 193\n",
    "Poly_degree = 4096\n",
    "a = np.random.randint(0, MOD, Poly_degree)\n",
    "s = np.random.randint(0, 2, Poly_degree)\n",
    "m = np.random.randint(0, MOD, Poly_degree)\n",
    "e = np.random.randint(0, 2, Poly_degree)\n",
    "\n",
    "start_time = time.time()\n",
    "enc1 = (a*s)%193\n",
    "enc2 = (enc1 + m)%193\n",
    "enc = (enc2 + e)%193\n",
    "end_time = time.time()\n",
    "print(\"Time: \", end_time - start_time)"
   ]
  },
  {
   "cell_type": "code",
   "execution_count": 22,
   "id": "8bca99e5",
   "metadata": {},
   "outputs": [],
   "source": [
    "bram_size = 8192/4\n",
    "# write a to BRAM\n",
    "for i in range(Poly_degree):\n",
    "    temp = int(a[i])\n",
    "    if i < 2048:\n",
    "        bram0.write(i*4, temp)\n",
    "    else:\n",
    "        bram1.write((i-2048)*4, temp)\n",
    "        \n",
    "# write s to BRAM\n",
    "for i in range(Poly_degree):\n",
    "    temp = int(s[i])\n",
    "    if i < 2048:\n",
    "        bram2.write(i*4, temp)\n",
    "    else:\n",
    "        bram3.write((i-2048)*4, temp)\n",
    "        \n",
    "# write e to BRAM\n",
    "for i in range(Poly_degree):\n",
    "    temp = int(e[i])\n",
    "    if i < 2048:\n",
    "        bram6.write(i*4, temp)\n",
    "    else:\n",
    "        bram7.write((i-2048)*4, temp)\n",
    "        \n",
    "start_time = time.time()\n",
    "# write m to BRAM\n",
    "write_start_time = time.time()\n",
    "for i in range(Poly_degree):\n",
    "    temp = int(m[i])\n",
    "    if i < 2048:\n",
    "        bram4.write(i*4, temp)\n",
    "    else:\n",
    "        bram5.write((i-2048)*4, temp)\n",
    "write_end_time = time.time()\n",
    "        \n",
    "\n"
   ]
  },
  {
   "cell_type": "code",
   "execution_count": 23,
   "id": "9d3dc62b",
   "metadata": {},
   "outputs": [],
   "source": [
    "# read a, s from BRAM and compute a*s\n",
    "for i in range(4096):\n",
    "    if i < 2048:\n",
    "        temp1 = bram0.read(i*4)\n",
    "        temp2 = bram2.read(i*4)\n",
    "    else:\n",
    "        temp1 = bram1.read((i-2048)*4)\n",
    "        temp2 = bram3.read((i-2048)*4)\n",
    "        \n",
    "    temp3 = top.compute(temp1, temp2, 2)\n",
    "    if i < 2048:\n",
    "        bram0.write(i*4, temp3)\n",
    "    else:\n",
    "        bram1.write((i-2048)*4, temp3)\n",
    "\n",
    "\n",
    "\n"
   ]
  },
  {
   "cell_type": "code",
   "execution_count": 24,
   "id": "db53134b",
   "metadata": {},
   "outputs": [],
   "source": [
    "      \n",
    "# read a*s from BRAM and compute a*s + m\n",
    "for i in range(Poly_degree):\n",
    "    if i < 2048:\n",
    "        temp1 = bram0.read(i*4)\n",
    "        temp2 = bram4.read(i*4)\n",
    "    else:\n",
    "        temp1 = bram1.read((i-2048)*4)\n",
    "        temp2 = bram5.read((i-2048)*4)\n",
    "        \n",
    "    temp3 = top.compute(temp1, temp2, 0)\n",
    "    \n",
    "    if i < 2048:\n",
    "        bram0.write(i*4, temp3)\n",
    "    else:\n",
    "        bram1.write((i-2048)*4, temp3)\n",
    "\n"
   ]
  },
  {
   "cell_type": "code",
   "execution_count": 25,
   "id": "e4141e9e",
   "metadata": {},
   "outputs": [
    {
     "name": "stdout",
     "output_type": "stream",
     "text": [
      "Time:  2.484999418258667\n",
      "Time:  0.12742114067077637\n",
      "a*s + m + e is correct\n"
     ]
    }
   ],
   "source": [
    "\n",
    "\n",
    "# read a*s + m from BRAM and compute a*s + m + e\n",
    "for i in range(4096):\n",
    "    if i < 2048:\n",
    "        temp1 = bram0.read(i*4)\n",
    "        temp2 = bram6.read(i*4)\n",
    "    else:\n",
    "        temp1 = bram1.read((i-2048)*4)\n",
    "        temp2 = bram7.read((i-2048)*4)\n",
    "    temp3 = top.compute(temp1, temp2, 0)\n",
    "    if i < 2048:\n",
    "        bram0.write(i*4, temp3)\n",
    "    else:\n",
    "        bram1.write((i-2048)*4, temp3)\n",
    "end_time = time.time()\n",
    "print(\"Time: \", end_time - start_time)\n",
    "print(\"Time: \", write_end_time - write_start_time)\n",
    "\n",
    "# Read the result from BRAM0, BRAM1\n",
    "result = np.zeros(4096)\n",
    "for i in range(4096):\n",
    "    if i < 2048:\n",
    "        result[i] = bram0.read(i*4)\n",
    "    else:\n",
    "        result[i] = bram1.read((i-2048)*4)\n",
    "        \n",
    "if np.array_equal(enc, result):\n",
    "    print(\"a*s + m + e is correct\")\n",
    "else:\n",
    "    print(\"a*s + m + e is wrong\")\n",
    "        "
   ]
  }
 ],
 "metadata": {
  "kernelspec": {
   "display_name": "Python 3 (ipykernel)",
   "language": "python",
   "name": "python3"
  },
  "language_info": {
   "codemirror_mode": {
    "name": "ipython",
    "version": 3
   },
   "file_extension": ".py",
   "mimetype": "text/x-python",
   "name": "python",
   "nbconvert_exporter": "python",
   "pygments_lexer": "ipython3",
   "version": "3.10.4"
  }
 },
 "nbformat": 4,
 "nbformat_minor": 5
}
