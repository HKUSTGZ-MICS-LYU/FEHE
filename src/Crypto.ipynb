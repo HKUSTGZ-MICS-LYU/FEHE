{
 "cells": [
  {
   "cell_type": "code",
   "execution_count": 64,
   "id": "2c00a243",
   "metadata": {},
   "outputs": [],
   "source": [
    "from pynq import Overlay, DefaultHierarchy, allocate, DefaultIP, MMIO\n",
    "import time\n",
    "import numpy as np\n",
    "import pynq.lib.dma\n",
    "from pynq import allocate\n",
    "import asyncio"
   ]
  },
  {
   "cell_type": "code",
   "execution_count": 98,
   "id": "cd8ba912",
   "metadata": {},
   "outputs": [
    {
     "name": "stdout",
     "output_type": "stream",
     "text": [
      "[   1  213  213    4  123  412  312 3124  123  312]\n"
     ]
    }
   ],
   "source": [
    "file_pth = 'test.txt'\n",
    "with open(file_pth, 'r') as f:\n",
    "    data = f.read()\n",
    "    data = data.split('\\n')\n",
    "    data = [int(i) for i in data if i]\n",
    "    data = np.array(data)\n",
    "print(data)\n"
   ]
  },
  {
   "cell_type": "code",
   "execution_count": 65,
   "id": "2906da27",
   "metadata": {},
   "outputs": [],
   "source": [
    "class Top_Driver(DefaultIP):\n",
    "    def __init__(self, description):\n",
    "        super().__init__(description=description)\n",
    "\n",
    "    bindto = ['xilinx.com:hls:TOP_MODULE:1.0']\n",
    "\n",
    "    def compute(self, input1, input2, OP):\n",
    "        self.write(0x10, input1)\n",
    "        self.write(0x18, input2)\n",
    "        self.write(0x30, OP)\n",
    "        while self.read(0x24) == 0:\n",
    "            pass\n",
    "        return self.read(0x20)\n",
    "overlay = Overlay('/home/xilinx/pynq/overlays/Crypto/Crypto.bit')"
   ]
  },
  {
   "cell_type": "code",
   "execution_count": 66,
   "id": "c4d4b36c",
   "metadata": {},
   "outputs": [
    {
     "name": "stdout",
     "output_type": "stream",
     "text": [
      "Used time:  0.004181861877441406\n"
     ]
    }
   ],
   "source": [
    "# 100ns * 10000 = 1ms\n",
    "start_time = time.time()\n",
    "for i in range(1):\n",
    "    overlay.TOP_MODULE_0.compute(1, 2, 2)\n",
    "end_time = time.time()\n",
    "print(\"Used time: \", end_time - start_time)"
   ]
  },
  {
   "cell_type": "code",
   "execution_count": 67,
   "id": "92b36ce5",
   "metadata": {},
   "outputs": [],
   "source": [
    "top = overlay.TOP_MODULE_0"
   ]
  },
  {
   "cell_type": "code",
   "execution_count": 68,
   "id": "46ae2cf6",
   "metadata": {},
   "outputs": [],
   "source": [
    "bram_num = 8\n",
    "for i in range(bram_num):\n",
    "    exec(f'bram{i} = overlay.axi_bram_ctrl_{i}')"
   ]
  },
  {
   "cell_type": "code",
   "execution_count": 69,
   "id": "a6dd3b12",
   "metadata": {},
   "outputs": [
    {
     "name": "stdout",
     "output_type": "stream",
     "text": [
      "Time:  0.004825592041015625\n"
     ]
    }
   ],
   "source": [
    "# simulate CKKS encryption, polynomial degree 4096\n",
    "MOD = 193\n",
    "Poly_degree = 4096\n",
    "a = np.random.randint(0, MOD, Poly_degree)\n",
    "s = np.random.randint(0, 2, Poly_degree)\n",
    "m = np.random.randint(0, MOD, Poly_degree)\n",
    "e = np.random.randint(0, 2, Poly_degree)\n",
    "\n",
    "start_time = time.time()\n",
    "enc1 = (a*s)%193\n",
    "enc2 = (enc1 + m)%193\n",
    "enc = (enc2 + e)%193\n",
    "end_time = time.time()\n",
    "print(\"Time: \", end_time - start_time)"
   ]
  },
  {
   "cell_type": "code",
   "execution_count": 70,
   "id": "8bca99e5",
   "metadata": {},
   "outputs": [],
   "source": [
    "bram_size = 8192/4\n",
    "# write a to BRAM\n",
    "for i in range(Poly_degree):\n",
    "    temp = int(a[i])\n",
    "    if i < 2048:\n",
    "        bram0.write(i*4, temp)\n",
    "    else:\n",
    "        bram1.write((i-2048)*4, temp)\n",
    "        \n",
    "# write s to BRAM\n",
    "for i in range(Poly_degree):\n",
    "    temp = int(s[i])\n",
    "    if i < 2048:\n",
    "        bram2.write(i*4, temp)\n",
    "    else:\n",
    "        bram3.write((i-2048)*4, temp)\n",
    "        \n",
    "# write e to BRAM\n",
    "for i in range(Poly_degree):\n",
    "    temp = int(e[i])\n",
    "    if i < 2048:\n",
    "        bram6.write(i*4, temp)\n",
    "    else:\n",
    "        bram7.write((i-2048)*4, temp)\n",
    "        \n",
    "start_time = time.time()\n",
    "# write m to BRAM\n",
    "write_start_time = time.time()\n",
    "for i in range(Poly_degree):\n",
    "    temp = int(m[i])\n",
    "    if i < 2048:\n",
    "        bram4.write(i*4, temp)\n",
    "    else:\n",
    "        bram5.write((i-2048)*4, temp)\n",
    "write_end_time = time.time()\n",
    "        \n",
    "\n"
   ]
  },
  {
   "cell_type": "code",
   "execution_count": 71,
   "id": "9d3dc62b",
   "metadata": {},
   "outputs": [],
   "source": [
    "# read a, s from BRAM and compute a*s\n",
    "for i in range(4096):\n",
    "    if i < 2048:\n",
    "        temp1 = bram0.read(i*4)\n",
    "        temp2 = bram2.read(i*4)\n",
    "    else:\n",
    "        temp1 = bram1.read((i-2048)*4)\n",
    "        temp2 = bram3.read((i-2048)*4)\n",
    "        \n",
    "    temp3 = top.compute(temp1, temp2, 2)\n",
    "    if i < 2048:\n",
    "        bram0.write(i*4, temp3)\n",
    "    else:\n",
    "        bram1.write((i-2048)*4, temp3)\n",
    "\n",
    "\n",
    "\n"
   ]
  },
  {
   "cell_type": "code",
   "execution_count": 72,
   "id": "db53134b",
   "metadata": {},
   "outputs": [],
   "source": [
    "      \n",
    "# read a*s from BRAM and compute a*s + m\n",
    "for i in range(Poly_degree):\n",
    "    if i < 2048:\n",
    "        temp1 = bram0.read(i*4)\n",
    "        temp2 = bram4.read(i*4)\n",
    "    else:\n",
    "        temp1 = bram1.read((i-2048)*4)\n",
    "        temp2 = bram5.read((i-2048)*4)\n",
    "        \n",
    "    temp3 = top.compute(temp1, temp2, 0)\n",
    "    \n",
    "    if i < 2048:\n",
    "        bram0.write(i*4, temp3)\n",
    "    else:\n",
    "        bram1.write((i-2048)*4, temp3)\n",
    "\n"
   ]
  },
  {
   "cell_type": "code",
   "execution_count": 73,
   "id": "e4141e9e",
   "metadata": {},
   "outputs": [
    {
     "name": "stdout",
     "output_type": "stream",
     "text": [
      "Time:  2.6975605487823486\n",
      "Time:  0.12714123725891113\n",
      "a*s + m + e is correct\n"
     ]
    }
   ],
   "source": [
    "\n",
    "\n",
    "# read a*s + m from BRAM and compute a*s + m + e\n",
    "for i in range(4096):\n",
    "    if i < 2048:\n",
    "        temp1 = bram0.read(i*4)\n",
    "        temp2 = bram6.read(i*4)\n",
    "    else:\n",
    "        temp1 = bram1.read((i-2048)*4)\n",
    "        temp2 = bram7.read((i-2048)*4)\n",
    "    temp3 = top.compute(temp1, temp2, 0)\n",
    "    if i < 2048:\n",
    "        bram0.write(i*4, temp3)\n",
    "    else:\n",
    "        bram1.write((i-2048)*4, temp3)\n",
    "end_time = time.time()\n",
    "print(\"Time: \", end_time - start_time)\n",
    "print(\"Time: \", write_end_time - write_start_time)\n",
    "\n",
    "# Read the result from BRAM0, BRAM1\n",
    "result = np.zeros(4096)\n",
    "for i in range(4096):\n",
    "    if i < 2048:\n",
    "        result[i] = bram0.read(i*4)\n",
    "    else:\n",
    "        result[i] = bram1.read((i-2048)*4)\n",
    "        \n",
    "if np.array_equal(enc, result):\n",
    "    print(\"a*s + m + e is correct\")\n",
    "else:\n",
    "    print(\"a*s + m + e is wrong\")\n",
    "        "
   ]
  },
  {
   "cell_type": "code",
   "execution_count": null,
   "id": "83732279",
   "metadata": {},
   "outputs": [
    {
     "name": "stdout",
     "output_type": "stream",
     "text": [
      "Time (s):  4.096e-05\n",
      "BRAM write time:  0.21050381660461426\n",
      "DDR write time:  0.5393013954162598\n"
     ]
    }
   ],
   "source": [
    "time1 = 4096 /100000000\n",
    "print(\"Time (s): \", time1)\n",
    "\n",
    "bram_time = time.time()\n",
    "for i in range(bram0.size//4):\n",
    "    num = np.random.randint(0, 100)\n",
    "    bram0.write(i*4, num)\n",
    "bram_time = time.time() - bram_time\n",
    "print(\"BRAM write time: \", bram_time)\n",
    "\n",
    "ddr_time = time.time()\n",
    "for i in range(4096):\n",
    "    num = np.random.randint(0, 100)\n",
    "    overlay.PSDDR.write(i*4, num)\n",
    "ddr_time = time.time() - ddr_time\n",
    "print(\"DDR write time: \", ddr_time)\n",
    "    \n"
   ]
  },
  {
   "cell_type": "code",
   "execution_count": 85,
   "id": "c7d864fd",
   "metadata": {},
   "outputs": [
    {
     "data": {
      "text/plain": [
       "<coroutine object wait_for_timer1 at 0xaa1e1bf8>"
      ]
     },
     "execution_count": 85,
     "metadata": {},
     "output_type": "execute_result"
    }
   ],
   "source": [
    "\n",
    "timer1 = overlay.axi_timer_0\n",
    "async def wait_for_timer1(cycles):\n",
    "    timer1.register_map.TLR0 = cycles\n",
    "    timer1.register_map.TCSR0.LOAD0 = 1\n",
    "    timer1.register_map.TCSR0.LOAD0 = 0\n",
    "    timer1.register_map.TCSR0.ENIT0 = 1\n",
    "    timer1.register_map.TCSR0.ENT0 = 1\n",
    "    timer1.register_map.TCSR0.UDT0 = 1\n",
    "    await timer1.interrupt.wait()\n",
    "    timer1.register_map.TCSR0.T0INT = 1\n",
    "    \n",
    "wait_for_timer1(1000000)"
   ]
  }
 ],
 "metadata": {
  "kernelspec": {
   "display_name": "Python 3 (ipykernel)",
   "language": "python",
   "name": "python3"
  },
  "language_info": {
   "codemirror_mode": {
    "name": "ipython",
    "version": 3
   },
   "file_extension": ".py",
   "mimetype": "text/x-python",
   "name": "python",
   "nbconvert_exporter": "python",
   "pygments_lexer": "ipython3",
   "version": "3.10.4"
  }
 },
 "nbformat": 4,
 "nbformat_minor": 5
}
